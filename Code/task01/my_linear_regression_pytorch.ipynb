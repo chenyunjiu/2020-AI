{
 "cells": [
  {
   "cell_type": "markdown",
   "metadata": {
    "collapsed": true
   },
   "source": [
    "# 1.自己尝试使用pytorch实现线性回归"
   ]
  },
  {
   "cell_type": "code",
   "execution_count": 1,
   "metadata": {
    "collapsed": false
   },
   "outputs": [
    {
     "name": "stdout",
     "output_type": "stream",
     "text": [
      "1.4.0\n"
     ]
    }
   ],
   "source": [
    "import torch\n",
    "import numpy as np\n",
    "print(torch.__version__)"
   ]
  },
  {
   "cell_type": "markdown",
   "metadata": {},
   "source": [
    "## 1.1  生成数据集"
   ]
  },
  {
   "cell_type": "code",
   "execution_count": 2,
   "metadata": {
    "collapsed": false
   },
   "outputs": [],
   "source": [
    "num_inputs = 2\n",
    "num_examples = 1000\n",
    "true_w = [9.99, -9.99]\n",
    "true_b = 99.9\n",
    "features = torch.tensor(np.random.normal(0,1,(num_examples, num_inputs)),dtype=torch.float)\n",
    "labels = true_w[0]*features[:,0] +  true_w[1]*features[:,1] + true_b\n",
    "labels += torch.tensor(np.random.normal(0, 0.05, size=labels.size()), dtype = torch.float)"
   ]
  },
  {
   "cell_type": "markdown",
   "metadata": {},
   "source": [
    "## 1.2 数据可视化"
   ]
  },
  {
   "cell_type": "code",
   "execution_count": 3,
   "metadata": {
    "collapsed": false
   },
   "outputs": [
    {
     "data": {
      "text/plain": [
       "<matplotlib.collections.PathCollection at 0x129411c10>"
      ]
     },
     "execution_count": 3,
     "metadata": {},
     "output_type": "execute_result"
    },
    {
     "data": {
      "image/png": "[encoded data removed]",
      "text/plain": [
       "<Figure size 432x288 with 1 Axes>"
      ]
     },
     "metadata": {
      "needs_background": "light"
     },
     "output_type": "display_data"
    }
   ],
   "source": [
    "from matplotlib import pyplot as plt\n",
    "plt.scatter(features[:, [0]].numpy(), labels.numpy(), 1)"
   ]
  },
  {
   "cell_type": "markdown",
   "metadata": {},
   "source": [
    "## 1.3 读取数据"
   ]
  },
  {
   "cell_type": "code",
   "execution_count": 4,
   "metadata": {
    "collapsed": false
   },
   "outputs": [],
   "source": [
    "import torch.utils.data as Data\n",
    "\n",
    "batch_size = 10\n",
    "\n",
    "# 特征与标签融合\n",
    "dataset = Data.TensorDataset(features, labels)\n",
    "\n",
    "# 训练数据装载进 DataLoader\n",
    "data_iter = Data.DataLoader(\n",
    "    dataset = dataset,\n",
    "    batch_size = batch_size,\n",
    "    shuffle = True,  #打乱数据\n",
    "    num_workers = 1, #多线程读数据\n",
    ")"
   ]
  },
  {
   "cell_type": "code",
   "execution_count": 5,
   "metadata": {
    "collapsed": false
   },
   "outputs": [
    {
     "name": "stdout",
     "output_type": "stream",
     "text": [
      "tensor([[-0.0224, -1.0998],\n",
      "        [ 0.5371,  0.4794],\n",
      "        [-0.1560,  0.5094],\n",
      "        [-0.4495, -0.6661],\n",
      "        [ 0.6363,  1.4603],\n",
      "        [ 0.0099, -0.2993],\n",
      "        [-0.2959, -0.7295],\n",
      "        [ 0.9361,  0.4110],\n",
      "        [ 0.0672, -0.5674],\n",
      "        [-0.8086, -0.4907]])\n",
      "tensor([110.6581, 100.6285,  93.2110, 102.0940,  91.7609, 102.9921, 104.2340,\n",
      "        105.1370, 106.1442,  96.7393])\n"
     ]
    }
   ],
   "source": [
    "for X,y in data_iter:\n",
    "    print(X)\n",
    "    print(y)\n",
    "    break;"
   ]
  },
  {
   "cell_type": "markdown",
   "metadata": {},
   "source": [
    "## 1.4 定义模型"
   ]
  },
  {
   "cell_type": "code",
   "execution_count": 6,
   "metadata": {
    "collapsed": false
   },
   "outputs": [
    {
     "name": "stdout",
     "output_type": "stream",
     "text": [
      "LinearNet(\n",
      "  (linear): Linear(in_features=2, out_features=1, bias=True)\n",
      ")\n"
     ]
    }
   ],
   "source": [
    "from torch import nn\n",
    "\n",
    "#继承nn.Module类\n",
    "class LinearNet(nn.Module):        \n",
    "    def __init__(self, n_feature):\n",
    "        super(LinearNet, self).__init__()\n",
    "        self.linear = nn.Linear(in_features = n_feature, out_features = 1)\n",
    "        \n",
    "    def forward(self, x):\n",
    "        y = self.linear(x)\n",
    "        return y\n",
    "\n",
    "net = LinearNet(num_inputs)\n",
    "print(net)\n",
    "    "
   ]
  },
  {
   "cell_type": "markdown",
   "metadata": {},
   "source": [
    "### 1.4.1 定义模型写法1"
   ]
  },
  {
   "cell_type": "code",
   "execution_count": 7,
   "metadata": {
    "collapsed": false
   },
   "outputs": [
    {
     "name": "stdout",
     "output_type": "stream",
     "text": [
      "Sequential(\n",
      "  (0): Linear(in_features=2, out_features=1, bias=True)\n",
      ")\n"
     ]
    }
   ],
   "source": [
    "net1 = nn.Sequential(\n",
    "    nn.Linear(in_features = num_inputs, out_features = 1),\n",
    ")\n",
    "print(net1)"
   ]
  },
  {
   "cell_type": "markdown",
   "metadata": {},
   "source": [
    "### 1.4.2 定义模型写法2"
   ]
  },
  {
   "cell_type": "code",
   "execution_count": 8,
   "metadata": {
    "collapsed": false
   },
   "outputs": [
    {
     "name": "stdout",
     "output_type": "stream",
     "text": [
      "Sequential(\n",
      "  (linear): Linear(in_features=2, out_features=1, bias=True)\n",
      ")\n"
     ]
    }
   ],
   "source": [
    "net2 = nn.Sequential()\n",
    "net2.add_module('linear', nn.Linear(num_inputs, 1))\n",
    "print(net2)"
   ]
  },
  {
   "cell_type": "markdown",
   "metadata": {},
   "source": [
    "### 1.4.3 定义模型写法3"
   ]
  },
  {
   "cell_type": "code",
   "execution_count": 9,
   "metadata": {
    "collapsed": false
   },
   "outputs": [
    {
     "name": "stdout",
     "output_type": "stream",
     "text": [
      "Sequential(\n",
      "  (linear): Linear(in_features=2, out_features=1, bias=True)\n",
      ")\n"
     ]
    }
   ],
   "source": [
    "from collections import OrderedDict\n",
    "#OrderedDict的Key会按照插入的顺序排列\n",
    "net3 = nn.Sequential(\n",
    "    OrderedDict([('linear', nn.Linear(num_inputs,1))])\n",
    ")\n",
    "print(net3)"
   ]
  },
  {
   "cell_type": "code",
   "execution_count": 10,
   "metadata": {
    "collapsed": false
   },
   "outputs": [
    {
     "name": "stdout",
     "output_type": "stream",
     "text": [
      "Parameter containing:\n",
      "tensor([[ 0.0130, -0.0256]], requires_grad=True)\n",
      "Parameter containing:\n",
      "tensor([-0.6984], requires_grad=True)\n"
     ]
    }
   ],
   "source": [
    "for param in net.parameters():\n",
    "    print(param)"
   ]
  },
  {
   "cell_type": "markdown",
   "metadata": {},
   "source": [
    "## 1.5 初始化模型参数"
   ]
  },
  {
   "cell_type": "code",
   "execution_count": 11,
   "metadata": {
    "collapsed": false
   },
   "outputs": [
    {
     "name": "stdout",
     "output_type": "stream",
     "text": [
      "Parameter containing:\n",
      "tensor([[ 0.0130, -0.0256]], requires_grad=True)\n",
      "Parameter containing:\n",
      "tensor([-0.6984], requires_grad=True)\n"
     ]
    }
   ],
   "source": [
    "from torch.nn import init\n",
    "\n",
    "init.normal_(net1[0].weight, mean=0.0, std=0.01)\n",
    "init.constant_(net1[0].bias, val = 0.0)\n",
    "\n",
    "for param in net.parameters():\n",
    "    print(param)"
   ]
  },
  {
   "cell_type": "markdown",
   "metadata": {},
   "source": [
    "## 1.6 定义损失函数"
   ]
  },
  {
   "cell_type": "code",
   "execution_count": 12,
   "metadata": {
    "collapsed": true
   },
   "outputs": [],
   "source": [
    "loss = nn.MSELoss()"
   ]
  },
  {
   "cell_type": "markdown",
   "metadata": {},
   "source": [
    "## 1.7 定义优化算法"
   ]
  },
  {
   "cell_type": "code",
   "execution_count": 13,
   "metadata": {
    "collapsed": false
   },
   "outputs": [
    {
     "name": "stdout",
     "output_type": "stream",
     "text": [
      "SGD (\n",
      "Parameter Group 0\n",
      "    dampening: 0\n",
      "    lr: 0.3\n",
      "    momentum: 0\n",
      "    nesterov: False\n",
      "    weight_decay: 0\n",
      ")\n"
     ]
    }
   ],
   "source": [
    "import torch.optim as optim\n",
    "\n",
    "optimizer = optim.SGD(net1.parameters(), lr=0.3)\n",
    "print(optimizer)"
   ]
  },
  {
   "cell_type": "markdown",
   "metadata": {},
   "source": [
    "### 1.7.1 测试自动梯度"
   ]
  },
  {
   "cell_type": "markdown",
   "metadata": {},
   "source": [
    "# \n",
    "#test_data_iter = iter(data_iter)\n",
    "\n",
    "X,y = next(test_data_iter)\n",
    "\n",
    "output = net1(X)\n",
    "\n",
    "l = loss(output,y.view(-1,1))\n",
    "\n",
    "l.backward()\n",
    "\n",
    "print(l)\n",
    "for name, parms in net.named_parameters():\n",
    "    print('-->name:', name, '-->grad_requirs:',parms.requires_grad, \\\n",
    "          '-->grad_value:',parms.grad)"
   ]
  },
  {
   "cell_type": "markdown",
   "metadata": {},
   "source": [
    "#梯度测试 \n",
    "\n",
    "X.requires_grad_(True)\n",
    "print(X,y)\n",
    "\n",
    "\n",
    "w = torch.Tensor([1,2])\n",
    "w.requires_grad_(True)\n",
    "b = 3\n",
    "#print(w[0])\n",
    "\n",
    "output = w[0]*X[:,[0]] + w[1]*X[:,[1]] + b\n",
    "print(output)\n",
    "\n",
    "L = output ** 2\n",
    "\n",
    "D = L.sum()\n",
    "\n",
    "print(L)\n",
    "\n",
    "print(X.requires_grad)\n",
    "\n",
    "#X.grad.data.zero_()\n",
    "\n",
    "D.backward()\n",
    "\n",
    "#D.zero_grad()\n",
    "\n",
    "print(X.grad.data)\n",
    "\n",
    "print(w.grad.data)"
   ]
  },
  {
   "cell_type": "markdown",
   "metadata": {},
   "source": [
    "## 1.8 训练模型"
   ]
  },
  {
   "cell_type": "code",
   "execution_count": 14,
   "metadata": {
    "collapsed": false
   },
   "outputs": [
    {
     "name": "stdout",
     "output_type": "stream",
     "text": [
      "epoch :1, loss: 0.001781\n",
      "epoch :2, loss: 0.002559\n",
      "epoch :3, loss: 0.002725\n",
      "epoch :4, loss: 0.002893\n",
      "epoch :5, loss: 0.001452\n",
      "epoch :6, loss: 0.004687\n",
      "epoch :7, loss: 0.002824\n",
      "epoch :8, loss: 0.003730\n",
      "epoch :9, loss: 0.001025\n",
      "epoch :10, loss: 0.002884\n"
     ]
    }
   ],
   "source": [
    "num_epochs = 10\n",
    "for epoch in range(1,num_epochs+1):\n",
    "    for X,y in data_iter:\n",
    "        output = net1(X)\n",
    "        l = loss(output,y.view(-1,1))\n",
    "        optimizer.zero_grad()  \n",
    "        l.backward()\n",
    "        optimizer.step()\n",
    "    print(\"epoch :%d, loss: %f\" % (epoch, l.item()))"
   ]
  },
  {
   "cell_type": "code",
   "execution_count": 15,
   "metadata": {
    "collapsed": false
   },
   "outputs": [
    {
     "name": "stdout",
     "output_type": "stream",
     "text": [
      "Linear(in_features=2, out_features=1, bias=True)\n"
     ]
    }
   ],
   "source": [
    "dense = net1[0]\n",
    "print(dense)"
   ]
  },
  {
   "cell_type": "code",
   "execution_count": 16,
   "metadata": {
    "collapsed": false
   },
   "outputs": [
    {
     "name": "stdout",
     "output_type": "stream",
     "text": [
      "[9.99, -9.99] tensor([[ 9.9865, -9.9855]])\n",
      "99.9 tensor([99.8825])\n"
     ]
    }
   ],
   "source": [
    "print(true_w, dense.weight.data)\n",
    "print(true_b, dense.bias.data)"
   ]
  },
  {
   "cell_type": "code",
   "execution_count": null,
   "metadata": {
    "collapsed": true
   },
   "outputs": [],
   "source": []
  },
  {
   "cell_type": "code",
   "execution_count": null,
   "metadata": {
    "collapsed": true
   },
   "outputs": [],
   "source": []
  }
 ],
 "metadata": {
  "kernelspec": {
   "display_name": "“MachineLearning”",
   "language": "python",
   "name": "machginelearning"
  },
  "language_info": {
   "codemirror_mode": {
    "name": "ipython",
    "version": 3
   },
   "file_extension": ".py",
   "mimetype": "text/x-python",
   "name": "python",
   "nbconvert_exporter": "python",
   "pygments_lexer": "ipython3",
   "version": "3.7.6"
  }
 },
 "nbformat": 4,
 "nbformat_minor": 2
}
